{
 "cells": [
  {
   "cell_type": "code",
   "execution_count": 1,
   "metadata": {},
   "outputs": [],
   "source": [
    "import os\n",
    "import tensorflow as tf\n",
    "from sklearn.model_selection import train_test_split\n",
    "import numpy as np\n",
    "from sklearn import preprocessing\n",
    "import scipy.io\n",
    "from tensorflow.keras import layers\n",
    "import mne\n",
    "import seaborn as sns\n",
    "import matplotlib.pyplot as plt\n",
    "import pandas as pd\n",
    "from sklearn.metrics import confusion_matrix\n",
    "from classifier_gen import EEGNet_seq, EEGNet_seq_attention\n",
    "from eegnet import get_data, split_data, remove_nan, remove_participant, split_timeseries"
   ]
  },
  {
   "attachments": {},
   "cell_type": "markdown",
   "metadata": {},
   "source": [
    "Loading the data"
   ]
  },
  {
   "cell_type": "code",
   "execution_count": 2,
   "metadata": {},
   "outputs": [
    {
     "name": "stdout",
     "output_type": "stream",
     "text": [
      "6_normal.fif\n",
      "Opening raw data file ../EEG/6_normal.fif...\n",
      "    Range : 0 ... 162499 =      0.000 ...   649.996 secs\n",
      "Ready.\n",
      "Reading 0 ... 162499  =      0.000 ...   649.996 secs...\n",
      "1_watch.fif\n",
      "Opening raw data file ../EEG/1_watch.fif...\n",
      "    Range : 0 ... 148999 =      0.000 ...   595.996 secs\n",
      "Ready.\n",
      "Reading 0 ... 148999  =      0.000 ...   595.996 secs...\n",
      "7_watch.fif\n",
      "Opening raw data file ../EEG/7_watch.fif...\n",
      "    Range : 0 ... 155999 =      0.000 ...   623.996 secs\n",
      "Ready.\n",
      "Reading 0 ... 155999  =      0.000 ...   623.996 secs...\n"
     ]
    },
    {
     "name": "stderr",
     "output_type": "stream",
     "text": [
      "/Users/tomjefferis/Documents/GitHub/Immersive-VR-Study/eegnet.py:27: RuntimeWarning: This filename (../EEG/6_normal.fif) does not conform to MNE naming conventions. All raw files should end with raw.fif, raw_sss.fif, raw_tsss.fif, _meg.fif, _eeg.fif, _ieeg.fif, raw.fif.gz, raw_sss.fif.gz, raw_tsss.fif.gz, _meg.fif.gz, _eeg.fif.gz or _ieeg.fif.gz\n",
      "  raw = mne.io.read_raw_fif(filepath, preload=True)\n",
      "/Users/tomjefferis/Documents/GitHub/Immersive-VR-Study/eegnet.py:27: RuntimeWarning: This filename (../EEG/1_watch.fif) does not conform to MNE naming conventions. All raw files should end with raw.fif, raw_sss.fif, raw_tsss.fif, _meg.fif, _eeg.fif, _ieeg.fif, raw.fif.gz, raw_sss.fif.gz, raw_tsss.fif.gz, _meg.fif.gz, _eeg.fif.gz or _ieeg.fif.gz\n",
      "  raw = mne.io.read_raw_fif(filepath, preload=True)\n",
      "/Users/tomjefferis/Documents/GitHub/Immersive-VR-Study/eegnet.py:27: RuntimeWarning: This filename (../EEG/7_watch.fif) does not conform to MNE naming conventions. All raw files should end with raw.fif, raw_sss.fif, raw_tsss.fif, _meg.fif, _eeg.fif, _ieeg.fif, raw.fif.gz, raw_sss.fif.gz, raw_tsss.fif.gz, _meg.fif.gz, _eeg.fif.gz or _ieeg.fif.gz\n",
      "  raw = mne.io.read_raw_fif(filepath, preload=True)\n"
     ]
    },
    {
     "name": "stdout",
     "output_type": "stream",
     "text": [
      "10_normal.fif\n",
      "Opening raw data file ../EEG/10_normal.fif...\n",
      "    Range : 0 ... 162499 =      0.000 ...   649.996 secs\n",
      "Ready.\n",
      "Reading 0 ... 162499  =      0.000 ...   649.996 secs...\n",
      "3_normal.fif\n",
      "Opening raw data file ../EEG/3_normal.fif...\n",
      "    Range : 0 ... 162499 =      0.000 ...   649.996 secs\n",
      "Ready.\n",
      "Reading 0 ... 162499  =      0.000 ...   649.996 secs...\n",
      "9_correct.fif\n",
      "Opening raw data file ../EEG/9_correct.fif...\n",
      "    Range : 0 ... 162499 =      0.000 ...   649.996 secs\n",
      "Ready.\n"
     ]
    },
    {
     "name": "stderr",
     "output_type": "stream",
     "text": [
      "/Users/tomjefferis/Documents/GitHub/Immersive-VR-Study/eegnet.py:27: RuntimeWarning: This filename (../EEG/10_normal.fif) does not conform to MNE naming conventions. All raw files should end with raw.fif, raw_sss.fif, raw_tsss.fif, _meg.fif, _eeg.fif, _ieeg.fif, raw.fif.gz, raw_sss.fif.gz, raw_tsss.fif.gz, _meg.fif.gz, _eeg.fif.gz or _ieeg.fif.gz\n",
      "  raw = mne.io.read_raw_fif(filepath, preload=True)\n",
      "/Users/tomjefferis/Documents/GitHub/Immersive-VR-Study/eegnet.py:27: RuntimeWarning: This filename (../EEG/3_normal.fif) does not conform to MNE naming conventions. All raw files should end with raw.fif, raw_sss.fif, raw_tsss.fif, _meg.fif, _eeg.fif, _ieeg.fif, raw.fif.gz, raw_sss.fif.gz, raw_tsss.fif.gz, _meg.fif.gz, _eeg.fif.gz or _ieeg.fif.gz\n",
      "  raw = mne.io.read_raw_fif(filepath, preload=True)\n",
      "/Users/tomjefferis/Documents/GitHub/Immersive-VR-Study/eegnet.py:27: RuntimeWarning: This filename (../EEG/9_correct.fif) does not conform to MNE naming conventions. All raw files should end with raw.fif, raw_sss.fif, raw_tsss.fif, _meg.fif, _eeg.fif, _ieeg.fif, raw.fif.gz, raw_sss.fif.gz, raw_tsss.fif.gz, _meg.fif.gz, _eeg.fif.gz or _ieeg.fif.gz\n",
      "  raw = mne.io.read_raw_fif(filepath, preload=True)\n"
     ]
    },
    {
     "name": "stdout",
     "output_type": "stream",
     "text": [
      "Reading 0 ... 162499  =      0.000 ...   649.996 secs...\n",
      "4_normal.fif\n",
      "Opening raw data file ../EEG/4_normal.fif...\n",
      "    Range : 0 ... 162499 =      0.000 ...   649.996 secs\n",
      "Ready.\n",
      "Reading 0 ... 162499  =      0.000 ...   649.996 secs...\n",
      "10_watching.fif\n",
      "Opening raw data file ../EEG/10_watching.fif...\n",
      "    Range : 0 ... 154749 =      0.000 ...   618.996 secs\n",
      "Ready.\n",
      "Reading 0 ... 154749  =      0.000 ...   618.996 secs...\n",
      "1_normal.fif\n",
      "Opening raw data file ../EEG/1_normal.fif...\n",
      "    Range : 0 ... 161249 =      0.000 ...   644.996 secs\n",
      "Ready.\n",
      "Reading 0 ... 161249  =      0.000 ...   644.996 secs...\n"
     ]
    },
    {
     "name": "stderr",
     "output_type": "stream",
     "text": [
      "/Users/tomjefferis/Documents/GitHub/Immersive-VR-Study/eegnet.py:27: RuntimeWarning: This filename (../EEG/4_normal.fif) does not conform to MNE naming conventions. All raw files should end with raw.fif, raw_sss.fif, raw_tsss.fif, _meg.fif, _eeg.fif, _ieeg.fif, raw.fif.gz, raw_sss.fif.gz, raw_tsss.fif.gz, _meg.fif.gz, _eeg.fif.gz or _ieeg.fif.gz\n",
      "  raw = mne.io.read_raw_fif(filepath, preload=True)\n",
      "/Users/tomjefferis/Documents/GitHub/Immersive-VR-Study/eegnet.py:27: RuntimeWarning: This filename (../EEG/10_watching.fif) does not conform to MNE naming conventions. All raw files should end with raw.fif, raw_sss.fif, raw_tsss.fif, _meg.fif, _eeg.fif, _ieeg.fif, raw.fif.gz, raw_sss.fif.gz, raw_tsss.fif.gz, _meg.fif.gz, _eeg.fif.gz or _ieeg.fif.gz\n",
      "  raw = mne.io.read_raw_fif(filepath, preload=True)\n",
      "/Users/tomjefferis/Documents/GitHub/Immersive-VR-Study/eegnet.py:27: RuntimeWarning: This filename (../EEG/1_normal.fif) does not conform to MNE naming conventions. All raw files should end with raw.fif, raw_sss.fif, raw_tsss.fif, _meg.fif, _eeg.fif, _ieeg.fif, raw.fif.gz, raw_sss.fif.gz, raw_tsss.fif.gz, _meg.fif.gz, _eeg.fif.gz or _ieeg.fif.gz\n",
      "  raw = mne.io.read_raw_fif(filepath, preload=True)\n"
     ]
    },
    {
     "name": "stdout",
     "output_type": "stream",
     "text": [
      "6_watch.fif\n",
      "Opening raw data file ../EEG/6_watch.fif...\n",
      "    Range : 0 ... 156249 =      0.000 ...   624.996 secs\n",
      "Ready.\n",
      "Reading 0 ... 156249  =      0.000 ...   624.996 secs...\n",
      "11_watching.fif\n",
      "Opening raw data file ../EEG/11_watching.fif...\n",
      "    Range : 0 ... 160999 =      0.000 ...   643.996 secs\n",
      "Ready.\n",
      "Reading 0 ... 160999  =      0.000 ...   643.996 secs...\n",
      "12_normal.fif\n",
      "Opening raw data file ../EEG/12_normal.fif...\n",
      "    Range : 0 ... 157749 =      0.000 ...   630.996 secs\n",
      "Ready.\n",
      "Reading 0 ... 157749  =      0.000 ...   630.996 secs...\n"
     ]
    },
    {
     "name": "stderr",
     "output_type": "stream",
     "text": [
      "/Users/tomjefferis/Documents/GitHub/Immersive-VR-Study/eegnet.py:27: RuntimeWarning: This filename (../EEG/6_watch.fif) does not conform to MNE naming conventions. All raw files should end with raw.fif, raw_sss.fif, raw_tsss.fif, _meg.fif, _eeg.fif, _ieeg.fif, raw.fif.gz, raw_sss.fif.gz, raw_tsss.fif.gz, _meg.fif.gz, _eeg.fif.gz or _ieeg.fif.gz\n",
      "  raw = mne.io.read_raw_fif(filepath, preload=True)\n",
      "/Users/tomjefferis/Documents/GitHub/Immersive-VR-Study/eegnet.py:27: RuntimeWarning: This filename (../EEG/11_watching.fif) does not conform to MNE naming conventions. All raw files should end with raw.fif, raw_sss.fif, raw_tsss.fif, _meg.fif, _eeg.fif, _ieeg.fif, raw.fif.gz, raw_sss.fif.gz, raw_tsss.fif.gz, _meg.fif.gz, _eeg.fif.gz or _ieeg.fif.gz\n",
      "  raw = mne.io.read_raw_fif(filepath, preload=True)\n",
      "/Users/tomjefferis/Documents/GitHub/Immersive-VR-Study/eegnet.py:27: RuntimeWarning: This filename (../EEG/12_normal.fif) does not conform to MNE naming conventions. All raw files should end with raw.fif, raw_sss.fif, raw_tsss.fif, _meg.fif, _eeg.fif, _ieeg.fif, raw.fif.gz, raw_sss.fif.gz, raw_tsss.fif.gz, _meg.fif.gz, _eeg.fif.gz or _ieeg.fif.gz\n",
      "  raw = mne.io.read_raw_fif(filepath, preload=True)\n"
     ]
    },
    {
     "name": "stdout",
     "output_type": "stream",
     "text": [
      "3_watch.fif\n",
      "Opening raw data file ../EEG/3_watch.fif...\n",
      "    Range : 0 ... 155749 =      0.000 ...   622.996 secs\n",
      "Ready.\n",
      "Reading 0 ... 155749  =      0.000 ...   622.996 secs...\n",
      "11_normal.fif\n",
      "Opening raw data file ../EEG/11_normal.fif...\n",
      "    Range : 0 ... 162499 =      0.000 ...   649.996 secs\n",
      "Ready.\n",
      "Reading 0 ... 162499  =      0.000 ...   649.996 secs...\n",
      "14_watching.fif\n",
      "Opening raw data file ../EEG/14_watching.fif...\n"
     ]
    },
    {
     "name": "stderr",
     "output_type": "stream",
     "text": [
      "/Users/tomjefferis/Documents/GitHub/Immersive-VR-Study/eegnet.py:27: RuntimeWarning: This filename (../EEG/3_watch.fif) does not conform to MNE naming conventions. All raw files should end with raw.fif, raw_sss.fif, raw_tsss.fif, _meg.fif, _eeg.fif, _ieeg.fif, raw.fif.gz, raw_sss.fif.gz, raw_tsss.fif.gz, _meg.fif.gz, _eeg.fif.gz or _ieeg.fif.gz\n",
      "  raw = mne.io.read_raw_fif(filepath, preload=True)\n",
      "/Users/tomjefferis/Documents/GitHub/Immersive-VR-Study/eegnet.py:27: RuntimeWarning: This filename (../EEG/11_normal.fif) does not conform to MNE naming conventions. All raw files should end with raw.fif, raw_sss.fif, raw_tsss.fif, _meg.fif, _eeg.fif, _ieeg.fif, raw.fif.gz, raw_sss.fif.gz, raw_tsss.fif.gz, _meg.fif.gz, _eeg.fif.gz or _ieeg.fif.gz\n",
      "  raw = mne.io.read_raw_fif(filepath, preload=True)\n",
      "/Users/tomjefferis/Documents/GitHub/Immersive-VR-Study/eegnet.py:27: RuntimeWarning: This filename (../EEG/14_watching.fif) does not conform to MNE naming conventions. All raw files should end with raw.fif, raw_sss.fif, raw_tsss.fif, _meg.fif, _eeg.fif, _ieeg.fif, raw.fif.gz, raw_sss.fif.gz, raw_tsss.fif.gz, _meg.fif.gz, _eeg.fif.gz or _ieeg.fif.gz\n",
      "  raw = mne.io.read_raw_fif(filepath, preload=True)\n"
     ]
    },
    {
     "name": "stdout",
     "output_type": "stream",
     "text": [
      "    Range : 0 ... 119499 =      0.000 ...   477.996 secs\n",
      "Ready.\n",
      "Reading 0 ... 119499  =      0.000 ...   477.996 secs...\n",
      "13_watching.fif\n",
      "Opening raw data file ../EEG/13_watching.fif...\n",
      "    Range : 0 ... 158999 =      0.000 ...   635.996 secs\n",
      "Ready.\n",
      "Reading 0 ... 158999  =      0.000 ...   635.996 secs...\n",
      "2_normal.fif\n",
      "Opening raw data file ../EEG/2_normal.fif...\n",
      "    Range : 0 ... 162499 =      0.000 ...   649.996 secs\n",
      "Ready.\n",
      "Reading 0 ... 162499  =      0.000 ...   649.996 secs...\n",
      "14_normal.fif\n",
      "Opening raw data file ../EEG/14_normal.fif...\n",
      "    Range : 0 ... 162499 =      0.000 ...   649.996 secs\n",
      "Ready.\n",
      "Reading 0 ... 162499  =      0.000 ...   649.996 secs...\n"
     ]
    },
    {
     "name": "stderr",
     "output_type": "stream",
     "text": [
      "/Users/tomjefferis/Documents/GitHub/Immersive-VR-Study/eegnet.py:27: RuntimeWarning: This filename (../EEG/13_watching.fif) does not conform to MNE naming conventions. All raw files should end with raw.fif, raw_sss.fif, raw_tsss.fif, _meg.fif, _eeg.fif, _ieeg.fif, raw.fif.gz, raw_sss.fif.gz, raw_tsss.fif.gz, _meg.fif.gz, _eeg.fif.gz or _ieeg.fif.gz\n",
      "  raw = mne.io.read_raw_fif(filepath, preload=True)\n",
      "/Users/tomjefferis/Documents/GitHub/Immersive-VR-Study/eegnet.py:27: RuntimeWarning: This filename (../EEG/2_normal.fif) does not conform to MNE naming conventions. All raw files should end with raw.fif, raw_sss.fif, raw_tsss.fif, _meg.fif, _eeg.fif, _ieeg.fif, raw.fif.gz, raw_sss.fif.gz, raw_tsss.fif.gz, _meg.fif.gz, _eeg.fif.gz or _ieeg.fif.gz\n",
      "  raw = mne.io.read_raw_fif(filepath, preload=True)\n",
      "/Users/tomjefferis/Documents/GitHub/Immersive-VR-Study/eegnet.py:27: RuntimeWarning: This filename (../EEG/14_normal.fif) does not conform to MNE naming conventions. All raw files should end with raw.fif, raw_sss.fif, raw_tsss.fif, _meg.fif, _eeg.fif, _ieeg.fif, raw.fif.gz, raw_sss.fif.gz, raw_tsss.fif.gz, _meg.fif.gz, _eeg.fif.gz or _ieeg.fif.gz\n",
      "  raw = mne.io.read_raw_fif(filepath, preload=True)\n"
     ]
    },
    {
     "name": "stdout",
     "output_type": "stream",
     "text": [
      "8_watch.fif\n",
      "Opening raw data file ../EEG/8_watch.fif...\n",
      "    Range : 0 ... 157999 =      0.000 ...   631.996 secs\n",
      "Ready.\n",
      "Reading 0 ... 157999  =      0.000 ...   631.996 secs...\n",
      "7_normal.fif\n",
      "Opening raw data file ../EEG/7_normal.fif...\n",
      "    Range : 0 ... 162499 =      0.000 ...   649.996 secs\n",
      "Ready.\n",
      "Reading 0 ... 162499  =      0.000 ...   649.996 secs...\n",
      "12_watching.fif\n",
      "Opening raw data file ../EEG/12_watching.fif...\n"
     ]
    },
    {
     "name": "stderr",
     "output_type": "stream",
     "text": [
      "/Users/tomjefferis/Documents/GitHub/Immersive-VR-Study/eegnet.py:27: RuntimeWarning: This filename (../EEG/8_watch.fif) does not conform to MNE naming conventions. All raw files should end with raw.fif, raw_sss.fif, raw_tsss.fif, _meg.fif, _eeg.fif, _ieeg.fif, raw.fif.gz, raw_sss.fif.gz, raw_tsss.fif.gz, _meg.fif.gz, _eeg.fif.gz or _ieeg.fif.gz\n",
      "  raw = mne.io.read_raw_fif(filepath, preload=True)\n",
      "/Users/tomjefferis/Documents/GitHub/Immersive-VR-Study/eegnet.py:27: RuntimeWarning: This filename (../EEG/7_normal.fif) does not conform to MNE naming conventions. All raw files should end with raw.fif, raw_sss.fif, raw_tsss.fif, _meg.fif, _eeg.fif, _ieeg.fif, raw.fif.gz, raw_sss.fif.gz, raw_tsss.fif.gz, _meg.fif.gz, _eeg.fif.gz or _ieeg.fif.gz\n",
      "  raw = mne.io.read_raw_fif(filepath, preload=True)\n",
      "/Users/tomjefferis/Documents/GitHub/Immersive-VR-Study/eegnet.py:27: RuntimeWarning: This filename (../EEG/12_watching.fif) does not conform to MNE naming conventions. All raw files should end with raw.fif, raw_sss.fif, raw_tsss.fif, _meg.fif, _eeg.fif, _ieeg.fif, raw.fif.gz, raw_sss.fif.gz, raw_tsss.fif.gz, _meg.fif.gz, _eeg.fif.gz or _ieeg.fif.gz\n",
      "  raw = mne.io.read_raw_fif(filepath, preload=True)\n"
     ]
    },
    {
     "name": "stdout",
     "output_type": "stream",
     "text": [
      "    Range : 0 ... 160499 =      0.000 ...   641.996 secs\n",
      "Ready.\n",
      "Reading 0 ... 160499  =      0.000 ...   641.996 secs...\n",
      "5_watch.fif\n",
      "Opening raw data file ../EEG/5_watch.fif...\n",
      "    Range : 0 ... 155749 =      0.000 ...   622.996 secs\n",
      "Ready.\n",
      "Reading 0 ... 155749  =      0.000 ...   622.996 secs...\n",
      "2_watch.fif\n",
      "Opening raw data file ../EEG/2_watch.fif...\n",
      "    Range : 0 ... 162499 =      0.000 ...   649.996 secs\n",
      "Ready.\n",
      "Reading 0 ... 162499  =      0.000 ...   649.996 secs...\n",
      "13_normal.fif\n",
      "Opening raw data file ../EEG/13_normal.fif...\n",
      "    Range : 0 ... 151749 =      0.000 ...   606.996 secs\n",
      "Ready.\n",
      "Reading 0 ... 151749  =      0.000 ...   606.996 secs...\n"
     ]
    },
    {
     "name": "stderr",
     "output_type": "stream",
     "text": [
      "/Users/tomjefferis/Documents/GitHub/Immersive-VR-Study/eegnet.py:27: RuntimeWarning: This filename (../EEG/5_watch.fif) does not conform to MNE naming conventions. All raw files should end with raw.fif, raw_sss.fif, raw_tsss.fif, _meg.fif, _eeg.fif, _ieeg.fif, raw.fif.gz, raw_sss.fif.gz, raw_tsss.fif.gz, _meg.fif.gz, _eeg.fif.gz or _ieeg.fif.gz\n",
      "  raw = mne.io.read_raw_fif(filepath, preload=True)\n",
      "/Users/tomjefferis/Documents/GitHub/Immersive-VR-Study/eegnet.py:27: RuntimeWarning: This filename (../EEG/2_watch.fif) does not conform to MNE naming conventions. All raw files should end with raw.fif, raw_sss.fif, raw_tsss.fif, _meg.fif, _eeg.fif, _ieeg.fif, raw.fif.gz, raw_sss.fif.gz, raw_tsss.fif.gz, _meg.fif.gz, _eeg.fif.gz or _ieeg.fif.gz\n",
      "  raw = mne.io.read_raw_fif(filepath, preload=True)\n",
      "/Users/tomjefferis/Documents/GitHub/Immersive-VR-Study/eegnet.py:27: RuntimeWarning: This filename (../EEG/13_normal.fif) does not conform to MNE naming conventions. All raw files should end with raw.fif, raw_sss.fif, raw_tsss.fif, _meg.fif, _eeg.fif, _ieeg.fif, raw.fif.gz, raw_sss.fif.gz, raw_tsss.fif.gz, _meg.fif.gz, _eeg.fif.gz or _ieeg.fif.gz\n",
      "  raw = mne.io.read_raw_fif(filepath, preload=True)\n"
     ]
    },
    {
     "name": "stdout",
     "output_type": "stream",
     "text": [
      "5_normal.fif\n",
      "Opening raw data file ../EEG/5_normal.fif...\n",
      "    Range : 0 ... 162499 =      0.000 ...   649.996 secs\n",
      "Ready.\n",
      "Reading 0 ... 162499  =      0.000 ...   649.996 secs...\n",
      "9_watch.fif\n",
      "Opening raw data file ../EEG/9_watch.fif...\n",
      "    Range : 0 ... 156249 =      0.000 ...   624.996 secs\n",
      "Ready.\n",
      "Reading 0 ... 156249  =      0.000 ...   624.996 secs...\n",
      "8_normal.fif\n",
      "Opening raw data file ../EEG/8_normal.fif...\n",
      "    Range : 0 ... 162499 =      0.000 ...   649.996 secs\n",
      "Ready.\n",
      "Reading 0 ... 162499  =      0.000 ...   649.996 secs...\n"
     ]
    },
    {
     "name": "stderr",
     "output_type": "stream",
     "text": [
      "/Users/tomjefferis/Documents/GitHub/Immersive-VR-Study/eegnet.py:27: RuntimeWarning: This filename (../EEG/5_normal.fif) does not conform to MNE naming conventions. All raw files should end with raw.fif, raw_sss.fif, raw_tsss.fif, _meg.fif, _eeg.fif, _ieeg.fif, raw.fif.gz, raw_sss.fif.gz, raw_tsss.fif.gz, _meg.fif.gz, _eeg.fif.gz or _ieeg.fif.gz\n",
      "  raw = mne.io.read_raw_fif(filepath, preload=True)\n",
      "/Users/tomjefferis/Documents/GitHub/Immersive-VR-Study/eegnet.py:27: RuntimeWarning: This filename (../EEG/9_watch.fif) does not conform to MNE naming conventions. All raw files should end with raw.fif, raw_sss.fif, raw_tsss.fif, _meg.fif, _eeg.fif, _ieeg.fif, raw.fif.gz, raw_sss.fif.gz, raw_tsss.fif.gz, _meg.fif.gz, _eeg.fif.gz or _ieeg.fif.gz\n",
      "  raw = mne.io.read_raw_fif(filepath, preload=True)\n",
      "/Users/tomjefferis/Documents/GitHub/Immersive-VR-Study/eegnet.py:27: RuntimeWarning: This filename (../EEG/8_normal.fif) does not conform to MNE naming conventions. All raw files should end with raw.fif, raw_sss.fif, raw_tsss.fif, _meg.fif, _eeg.fif, _ieeg.fif, raw.fif.gz, raw_sss.fif.gz, raw_tsss.fif.gz, _meg.fif.gz, _eeg.fif.gz or _ieeg.fif.gz\n",
      "  raw = mne.io.read_raw_fif(filepath, preload=True)\n"
     ]
    },
    {
     "name": "stdout",
     "output_type": "stream",
     "text": [
      "4_watch.fif\n",
      "Opening raw data file ../EEG/4_watch.fif...\n",
      "    Range : 0 ... 159249 =      0.000 ...   636.996 secs\n",
      "Ready.\n",
      "Reading 0 ... 159249  =      0.000 ...   636.996 secs...\n"
     ]
    },
    {
     "name": "stderr",
     "output_type": "stream",
     "text": [
      "/Users/tomjefferis/Documents/GitHub/Immersive-VR-Study/eegnet.py:27: RuntimeWarning: This filename (../EEG/4_watch.fif) does not conform to MNE naming conventions. All raw files should end with raw.fif, raw_sss.fif, raw_tsss.fif, _meg.fif, _eeg.fif, _ieeg.fif, raw.fif.gz, raw_sss.fif.gz, raw_tsss.fif.gz, _meg.fif.gz, _eeg.fif.gz or _ieeg.fif.gz\n",
      "  raw = mne.io.read_raw_fif(filepath, preload=True)\n"
     ]
    }
   ],
   "source": [
    "window_size = 2500\n",
    "\n",
    "X, Y, order = get_data()\n",
    "X, Y, order = split_data(X, Y, order, window_size=window_size)\n",
    "\n",
    "length = len(X)\n",
    "X = np.array(X)\n",
    "X = X.reshape(length, 32, window_size, 1)\n",
    "#X = np.moveaxis(X, [3], [1])\n",
    "Y = np.array(Y)\n",
    "order = np.array(order)\n",
    "#remove nan values\n",
    "X, Y, order = remove_nan(X, Y, order)\n",
    "X -= np.min(X)\n",
    "X /= np.max(X)\n",
    "\n",
    "#remove participant 9\n",
    "X_train, Y_train, X_test, Y_test = remove_participant(X, Y, order, 9)\n",
    "\n"
   ]
  },
  {
   "attachments": {},
   "cell_type": "markdown",
   "metadata": {},
   "source": [
    "Machin Lern"
   ]
  },
  {
   "cell_type": "code",
   "execution_count": 3,
   "metadata": {},
   "outputs": [
    {
     "name": "stdout",
     "output_type": "stream",
     "text": [
      "Metal device set to: Apple M1\n",
      "\n",
      "systemMemory: 8.00 GB\n",
      "maxCacheSize: 2.67 GB\n",
      "\n"
     ]
    },
    {
     "name": "stderr",
     "output_type": "stream",
     "text": [
      "2023-02-08 13:45:29.857137: I tensorflow/core/common_runtime/pluggable_device/pluggable_device_factory.cc:306] Could not identify NUMA node of platform GPU ID 0, defaulting to 0. Your kernel may not have been built with NUMA support.\n",
      "2023-02-08 13:45:29.858425: I tensorflow/core/common_runtime/pluggable_device/pluggable_device_factory.cc:272] Created TensorFlow device (/job:localhost/replica:0/task:0/device:GPU:0 with 0 MB memory) -> physical PluggableDevice (device: 0, name: METAL, pci bus id: <undefined>)\n"
     ]
    },
    {
     "name": "stdout",
     "output_type": "stream",
     "text": [
      "Epoch 1/50\n"
     ]
    },
    {
     "name": "stderr",
     "output_type": "stream",
     "text": [
      "2023-02-08 13:45:30.861569: W tensorflow/core/platform/profile_utils/cpu_utils.cc:128] Failed to get CPU frequency: 0 Hz\n",
      "2023-02-08 13:45:31.398461: I tensorflow/core/grappler/optimizers/custom_graph_optimizer_registry.cc:114] Plugin optimizer for device_type GPU is enabled.\n"
     ]
    },
    {
     "name": "stdout",
     "output_type": "stream",
     "text": [
      "40/41 [============================>.] - ETA: 0s - loss: 0.7100 - accuracy: 0.5055"
     ]
    }
   ],
   "source": [
    "# EEGnet seq\n",
    "model = EEGNet_seq(2, 32, window_size, loss='sparse_categorical_crossentropy', dropoutType='SpatialDropout2D', learning_rate=0.001)\n",
    "model.compile(optimizer='adam', loss='sparse_categorical_crossentropy', metrics=['accuracy'])\n",
    "history = model.fit(X_train, Y_train, epochs=50, validation_split=0.1)\n",
    "#save model\n",
    "model.save(\"eegnet.h5\")"
   ]
  },
  {
   "cell_type": "code",
   "execution_count": null,
   "metadata": {},
   "outputs": [],
   "source": [
    "#plot confusion matrix, accuracy, and loss\n",
    "Y_pred = model.predict(X_test)\n",
    "Y_pred = np.argmax(Y_pred, axis=1)\n",
    "\n",
    "cm = confusion_matrix(Y_test, Y_pred)\n",
    "print(cm)\n",
    "sns.heatmap(cm, annot=True, fmt='g')\n",
    "plt.show()"
   ]
  },
  {
   "cell_type": "code",
   "execution_count": null,
   "metadata": {},
   "outputs": [],
   "source": [
    "# summarize history for accuracy\n",
    "plt.plot(history.history['accuracy'])\n",
    "plt.plot(history.history['val_accuracy'])\n",
    "plt.title('model accuracy')\n",
    "plt.ylabel('accuracy')\n",
    "plt.xlabel('epoch')\n",
    "plt.legend(['train', 'test'], loc='upper left')\n",
    "plt.show()"
   ]
  },
  {
   "cell_type": "code",
   "execution_count": null,
   "metadata": {},
   "outputs": [],
   "source": [
    "# summarize history for loss\n",
    "plt.plot(history.history['loss'])\n",
    "plt.plot(history.history['val_loss'])\n",
    "plt.title('model loss')\n",
    "plt.ylabel('loss')\n",
    "plt.xlabel('epoch')\n",
    "plt.legend(['train', 'test'], loc='upper left')\n",
    "plt.show()"
   ]
  }
 ],
 "metadata": {
  "kernelspec": {
   "display_name": "vrtensorflow",
   "language": "python",
   "name": "python3"
  },
  "language_info": {
   "codemirror_mode": {
    "name": "ipython",
    "version": 3
   },
   "file_extension": ".py",
   "mimetype": "text/x-python",
   "name": "python",
   "nbconvert_exporter": "python",
   "pygments_lexer": "ipython3",
   "version": "3.9.16"
  },
  "orig_nbformat": 4,
  "vscode": {
   "interpreter": {
    "hash": "50a23ccb2a46e4f3c10b656e01e221a451ca18d9a0bb1860468c4ede0c087d11"
   }
  }
 },
 "nbformat": 4,
 "nbformat_minor": 2
}
