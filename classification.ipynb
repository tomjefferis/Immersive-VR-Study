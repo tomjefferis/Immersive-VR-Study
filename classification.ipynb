{
 "cells": [
  {
   "cell_type": "code",
   "execution_count": null,
   "metadata": {},
   "outputs": [],
   "source": [
    "import os\n",
    "import tensorflow as tf\n",
    "from sklearn.model_selection import train_test_split\n",
    "import numpy as np\n",
    "from sklearn import preprocessing\n",
    "import scipy.io\n",
    "from tensorflow.keras import layers\n",
    "import mne\n",
    "import seaborn as sns\n",
    "import matplotlib.pyplot as plt\n",
    "import pandas as pd\n",
    "from sklearn.metrics import confusion_matrix\n",
    "from classifier_gen import EEGNet_seq, EEGNet_seq_attention\n",
    "from eegnet import get_data, split_data, remove_nan, remove_participant, split_timeseries"
   ]
  },
  {
   "attachments": {},
   "cell_type": "markdown",
   "metadata": {},
   "source": [
    "Loading the data"
   ]
  },
  {
   "cell_type": "code",
   "execution_count": null,
   "metadata": {},
   "outputs": [],
   "source": [
    "window_size = 2500\n",
    "\n",
    "X, Y, order = get_data()\n",
    "X, Y = split_data(X, Y, order, window_size=window_size)\n",
    "\n",
    "length = len(X)\n",
    "X = np.array(X)\n",
    "X = X.reshape(length, 32, window_size, 1)\n",
    "#X = np.moveaxis(X, [3], [1])\n",
    "Y = np.array(Y)\n",
    "#remove nan values\n",
    "X, Y = remove_nan(X, Y)\n",
    "X -= np.min(X)\n",
    "X /= np.max(X)\n",
    "\n",
    "#remove participant 9\n",
    "X, Y, removed_participant, removed_scores = remove_participant(X, Y, order, 9)"
   ]
  },
  {
   "attachments": {},
   "cell_type": "markdown",
   "metadata": {},
   "source": [
    "Machin Lern"
   ]
  },
  {
   "cell_type": "code",
   "execution_count": null,
   "metadata": {},
   "outputs": [],
   "source": []
  }
 ],
 "metadata": {
  "kernelspec": {
   "display_name": "vrtensorflow",
   "language": "python",
   "name": "python3"
  },
  "language_info": {
   "name": "python",
   "version": "3.11.0 (main, Jan 16 2023, 11:11:51) [Clang 14.0.6 ]"
  },
  "orig_nbformat": 4,
  "vscode": {
   "interpreter": {
    "hash": "50a23ccb2a46e4f3c10b656e01e221a451ca18d9a0bb1860468c4ede0c087d11"
   }
  }
 },
 "nbformat": 4,
 "nbformat_minor": 2
}
